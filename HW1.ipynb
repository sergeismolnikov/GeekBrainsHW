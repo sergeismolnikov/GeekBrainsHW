{
 "cells": [
  {
   "cell_type": "code",
   "execution_count": null,
   "metadata": {},
   "outputs": [],
   "source": [
    "1. Поработайте с переменными, создайте несколько, выведите на экран,\n",
    "запросите у пользователя несколько чисел и строк и сохраните в переменные, выведите на экран."
   ]
  },
  {
   "cell_type": "code",
   "execution_count": 2,
   "metadata": {},
   "outputs": [
    {
     "name": "stdout",
     "output_type": "stream",
     "text": [
      "введите количество переменных, которые хотите сохранить:\n",
      "4\n",
      "1\n",
      "2\n",
      "3\n",
      "4\n",
      "saved data ['1', '2', '3', '4']\n"
     ]
    }
   ],
   "source": [
    "\"\"\" \n",
    "a = 12\n",
    "b = 'something'\n",
    "c = float(14)\n",
    "print ('type some number')\n",
    "d = int(input())\n",
    "print ('type something')\n",
    "e = str(input())\n",
    "\n",
    "print (a, b, c, d, e)\n",
    "\"\"\"\n",
    "\n",
    "print ('введите количество переменных, которые хотите сохранить:')\n",
    "d = int(input())\n",
    "y = []\n",
    "\n",
    "for i in range (0,d):\n",
    "    data = input()\n",
    "    y.append(data)\n",
    "    \n",
    "\n",
    "print ('saved data', y)\n"
   ]
  },
  {
   "cell_type": "code",
   "execution_count": null,
   "metadata": {},
   "outputs": [],
   "source": [
    "2. Пользователь вводит время в секундах. \n",
    "Переведите время в часы, минуты и секунды и выведите в формате чч:мм:сс. Используйте форматирование строк."
   ]
  },
  {
   "cell_type": "code",
   "execution_count": 5,
   "metadata": {},
   "outputs": [
    {
     "name": "stdout",
     "output_type": "stream",
     "text": [
      "type as many seconds as you want\n",
      "245345\n",
      "time:  68:09:05\n"
     ]
    }
   ],
   "source": [
    "print ('type as many seconds as you want')\n",
    "a = int(input())\n",
    "\n",
    "b = a//3600\n",
    "a = a - b*3600\n",
    "c = a//60\n",
    "d = a%60\n",
    "time = \"{:02}:{:02}:{:02}\".format(b, c, d)\n",
    "print ('time: ', time)"
   ]
  },
  {
   "cell_type": "code",
   "execution_count": 64,
   "metadata": {},
   "outputs": [
    {
     "ename": "SyntaxError",
     "evalue": "invalid syntax (<ipython-input-64-2eda278bfc24>, line 1)",
     "output_type": "error",
     "traceback": [
      "\u001b[0;36m  File \u001b[0;32m\"<ipython-input-64-2eda278bfc24>\"\u001b[0;36m, line \u001b[0;32m1\u001b[0m\n\u001b[0;31m    3. Узнайте у пользователя число n. Найдите сумму чисел n + nn + nnn.\u001b[0m\n\u001b[0m             ^\u001b[0m\n\u001b[0;31mSyntaxError\u001b[0m\u001b[0;31m:\u001b[0m invalid syntax\n"
     ]
    }
   ],
   "source": [
    "3. Узнайте у пользователя число n. Найдите сумму чисел n + nn + nnn. \n",
    "Например, пользователь ввёл число 3. Считаем 3 + 33 + 333 = 369."
   ]
  },
  {
   "cell_type": "code",
   "execution_count": 28,
   "metadata": {},
   "outputs": [
    {
     "name": "stdout",
     "output_type": "stream",
     "text": [
      "369\n"
     ]
    }
   ],
   "source": [
    "a = int(input())\n",
    "a = str(a)\n",
    "b = int(a)+int(a+a)+int(a+a+a)\n",
    "print(b)"
   ]
  },
  {
   "cell_type": "code",
   "execution_count": null,
   "metadata": {},
   "outputs": [],
   "source": [
    "4. Пользователь вводит целое положительное число. \n",
    "Найдите самую большую цифру в числе. Для решения используйте цикл while и арифметические операции.\n"
   ]
  },
  {
   "cell_type": "code",
   "execution_count": 45,
   "metadata": {},
   "outputs": [
    {
     "name": "stdout",
     "output_type": "stream",
     "text": [
      "2351245121324123\n",
      "5\n"
     ]
    }
   ],
   "source": [
    "some_numb = int(input())\n",
    "max_numb = 0\n",
    "for i in str(some_numb):\n",
    "    xxx = i \n",
    "    if int(xxx) > int(max_numb):\n",
    "        max_numb = xxx    \n",
    "print (max_numb)"
   ]
  },
  {
   "cell_type": "code",
   "execution_count": 46,
   "metadata": {},
   "outputs": [
    {
     "ename": "SyntaxError",
     "evalue": "invalid syntax (<ipython-input-46-7190811367ce>, line 1)",
     "output_type": "error",
     "traceback": [
      "\u001b[0;36m  File \u001b[0;32m\"<ipython-input-46-7190811367ce>\"\u001b[0;36m, line \u001b[0;32m1\u001b[0m\n\u001b[0;31m    5. Запросите у пользователя значения выручки и издержек фирмы.\u001b[0m\n\u001b[0m               ^\u001b[0m\n\u001b[0;31mSyntaxError\u001b[0m\u001b[0;31m:\u001b[0m invalid syntax\n"
     ]
    }
   ],
   "source": [
    "5. Запросите у пользователя значения выручки и издержек фирмы. \n",
    "Определите, с каким финансовым результатом работает фирма (прибыль — выручка больше издержек, или убыток — издержки больше выручки). \n",
    "Выведите соответствующее сообщение. Если фирма отработала с прибылью, вычислите рентабельность выручки (соотношение прибыли к выручке).\n",
    "Далее запросите численность сотрудников фирмы и определите прибыль фирмы в расчете на одного сотрудника."
   ]
  },
  {
   "cell_type": "code",
   "execution_count": 58,
   "metadata": {},
   "outputs": [
    {
     "name": "stdout",
     "output_type": "stream",
     "text": [
      "500\n",
      "500\n",
      "0 profit\n"
     ]
    }
   ],
   "source": [
    "income = int(input())\n",
    "costs = int(input())\n",
    "profit = income - costs\n",
    "if profit < 0:\n",
    "    print('negative profit :(')\n",
    "if profit == 0:\n",
    "    print('0 profit')\n",
    "if profit > 0:\n",
    "    profitability = profit / income\n",
    "    print('positive profit', 'profitability = ', profitability)    \n",
    "    print('type workers count')    \n",
    "    workers = int(input())\n",
    "    print ('profit per worker = ', profit / workers)\n",
    "\n",
    "\n",
    "\n",
    "\n"
   ]
  },
  {
   "cell_type": "code",
   "execution_count": null,
   "metadata": {},
   "outputs": [],
   "source": [
    "6. Спортсмен занимается ежедневными пробежками. В первый день его результат составил a километров. \n",
    "Каждый день спортсмен увеличивал результат на 10 % относительно предыдущего. Требуется определить номер дня,\n",
    "на который общий результат спортсмена составить не менее b километров. \n",
    "Программа должна принимать значения параметров a и b и выводить одно натуральное число — номер дня."
   ]
  },
  {
   "cell_type": "code",
   "execution_count": 4,
   "metadata": {},
   "outputs": [
    {
     "name": "stdout",
     "output_type": "stream",
     "text": [
      "type initial distance\n",
      "2\n",
      "type target distance\n",
      "3\n",
      "[2.2, 2.4200000000000004, 2.662000000000001, 2.9282000000000012, 3.2210200000000015]\n",
      "days count 6\n"
     ]
    }
   ],
   "source": [
    "print('type initial distance')  \n",
    "start = int(input()) \n",
    "print('type target distance')  \n",
    "finish = int(input())\n",
    "dist = []\n",
    "\n",
    "while start < finish:\n",
    "    start = start*1.1\n",
    "    dist.append(start)\n",
    "\n",
    "print(dist)\n",
    "print('days to achieve', len(dist)+1)    "
   ]
  },
  {
   "cell_type": "code",
   "execution_count": null,
   "metadata": {},
   "outputs": [],
   "source": []
  }
 ],
 "metadata": {
  "kernelspec": {
   "display_name": "Python 3",
   "language": "python",
   "name": "python3"
  },
  "language_info": {
   "codemirror_mode": {
    "name": "ipython",
    "version": 3
   },
   "file_extension": ".py",
   "mimetype": "text/x-python",
   "name": "python",
   "nbconvert_exporter": "python",
   "pygments_lexer": "ipython3",
   "version": "3.7.6"
  }
 },
 "nbformat": 4,
 "nbformat_minor": 4
}
